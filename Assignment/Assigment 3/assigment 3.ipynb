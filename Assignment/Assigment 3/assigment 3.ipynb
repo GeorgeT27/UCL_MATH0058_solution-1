{
 "cells": [
  {
   "cell_type": "code",
   "execution_count": 4,
   "metadata": {},
   "outputs": [],
   "source": [
    "import numpy as np\n",
    "import numpy.linalg as nl\n",
    "import sympy as sy\n",
    "import matplotlib.pyplot as plt\n",
    "\n",
    "    "
   ]
  },
  {
   "cell_type": "code",
   "execution_count": 10,
   "metadata": {},
   "outputs": [],
   "source": [
    "def A(n,m):\n",
    "    row=np.array([[(-1)**j for j in range(m+1)]])\n",
    "    A=row\n",
    "    for i in range(1,n+1):\n",
    "        xi=-1+2*i/n\n",
    "        row=np.array([[xi**j for j in range(m+1)]])\n",
    "        A=np.vstack((A,row))\n",
    "    return A\n",
    "def x_i(n):\n",
    "    A=np.array([-1+2*i/n for i in range(n+1)])\n",
    "    return A\n",
    "def y_i(n):\n",
    "    A=np.reshape(np.array(1/(1+25*(x_i(n))**2)),(n+1,1))\n",
    "    return A \n",
    "def y(n):\n",
    "    A=[1/(1+25*i**2) for i in range(n+1)]\n",
    "    return A"
   ]
  },
  {
   "cell_type": "code",
   "execution_count": null,
   "metadata": {},
   "outputs": [],
   "source": [
    "def least_squre(A,n,m):\n",
    "    U,D,VT=nl.svd(A)\n",
    "    diag_D=np.diag(D)\n",
    "    if n==m:\n",
    "        return np.transpose(VT)@nl.inv(diag_D)@np.transpose(U)@y_i(n)\n",
    "    elif n>m:\n",
    "        zero_matrix=np.zeros((m+1,n-m))\n",
    "        sigma=np.hstack((np.linalg.inv(diag_D),zero_matrix))\n",
    "        return np.transpose(VT)@sigma@np.transpose(U)@y_i(n)\n",
    "least_squre(A(10,10),10,10)\n",
    "least_squre(A(80,20),80,20)"
   ]
  },
  {
   "cell_type": "code",
   "execution_count": 32,
   "metadata": {},
   "outputs": [
    {
     "data": {
      "text/plain": [
       "[<matplotlib.lines.Line2D at 0x7ff6e52d12b0>]"
      ]
     },
     "execution_count": 32,
     "metadata": {},
     "output_type": "execute_result"
    },
    {
     "data": {
      "image/png": "[encoded data removed]",
      "text/plain": [
       "<Figure size 432x288 with 1 Axes>"
      ]
     },
     "metadata": {
      "needs_background": "light"
     },
     "output_type": "display_data"
    }
   ],
   "source": [
    "y_value=[]\n",
    "x=11\n",
    "for j in range(x):\n",
    "    for i in range(x):\n",
    "        P_x_j=least_squre(A(x-1,x-1),x-1,x-1)[i][0]*(x_i(x-1)[j]**i)\n",
    "    y_value.append(P_x_j)\n",
    "plt.plot(x_i(x-1),y_value,marker='o')\n",
    "y_value_1=[]\n",
    "for j in range(81):\n",
    "    for i in range(21):\n",
    "        P_x_j_1=least_squre(A(80,20),80,20)[i][0]*(x_i(80)[j]**i)\n",
    "    y_value_1.append(P_x_j_1)\n",
    "plt.plot(x_i(80),y_value_1,marker='o',color='pink')\n",
    "plt.plot(x_i(100),y(100),color=\"black\")\n"
   ]
  },
  {
   "cell_type": "code",
   "execution_count": null,
   "metadata": {},
   "outputs": [],
   "source": []
  }
 ],
 "metadata": {
  "interpreter": {
   "hash": "40d3a090f54c6569ab1632332b64b2c03c39dcf918b08424e98f38b5ae0af88f"
  },
  "kernelspec": {
   "display_name": "Python 3.9.12",
   "language": "python",
   "name": "python3"
  },
  "language_info": {
   "codemirror_mode": {
    "name": "ipython",
    "version": 3
   },
   "file_extension": ".py",
   "mimetype": "text/x-python",
   "name": "python",
   "nbconvert_exporter": "python",
   "pygments_lexer": "ipython3",
   "version": "3.9.12"
  },
  "orig_nbformat": 4
 },
 "nbformat": 4,
 "nbformat_minor": 2
}
