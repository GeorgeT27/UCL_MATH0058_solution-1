{
 "cells": [
  {
   "cell_type": "code",
   "execution_count": 23,
   "metadata": {},
   "outputs": [],
   "source": [
    "import numpy as np\n",
    "import numpy.linalg as nl\n",
    "import sympy as sy\n",
    "import matplotlib.pyplot as plt\n",
    "import seaborn as sns\n",
    "from IPython.core.interactiveshell import InteractiveShell\n",
    "InteractiveShell.ast_node_interactivity = \"all\""
   ]
  },
  {
   "cell_type": "code",
   "execution_count": 18,
   "metadata": {},
   "outputs": [],
   "source": [
    "def A(n,m):\n",
    "    row=np.array([[(-1)**j for j in range(m+1)]])\n",
    "    A=row\n",
    "    for i in range(1,n+1):\n",
    "        xi=-1+2*i/n\n",
    "        row=np.array([[xi**j for j in range(m+1)]])\n",
    "        A=np.vstack((A,row))\n",
    "    return A\n",
    "def x_i(n):\n",
    "    return np.linspace(-1, 1, n+1)\n",
    "def y_i(n):\n",
    "    A=np.reshape(np.array(1/(1+25*(x_i(n))**2)),(n+1,1))\n",
    "    return A \n",
    "def y(x):\n",
    "    return 1/(1+25*x**2) "
   ]
  },
  {
   "cell_type": "code",
   "execution_count": 24,
   "metadata": {},
   "outputs": [
    {
     "data": {
      "text/plain": [
       "array([[ 1.00000000e+00],\n",
       "       [ 3.48610030e-13],\n",
       "       [-1.68552036e+01],\n",
       "       [-5.08748599e-12],\n",
       "       [ 1.23359729e+02],\n",
       "       [ 2.21973551e-11],\n",
       "       [-3.81433824e+02],\n",
       "       [-3.47313289e-11],\n",
       "       [ 4.94909502e+02],\n",
       "       [ 1.71738179e-11],\n",
       "       [-2.20941742e+02]])"
      ]
     },
     "execution_count": 24,
     "metadata": {},
     "output_type": "execute_result"
    },
    {
     "data": {
      "text/plain": [
       "array([[ 9.86177440e-01],\n",
       "       [-1.82879094e-11],\n",
       "       [-1.99405121e+01],\n",
       "       [ 1.00971231e-10],\n",
       "       [ 2.59603058e+02],\n",
       "       [ 1.15808518e-09],\n",
       "       [-2.03527067e+03],\n",
       "       [-2.16724629e-08],\n",
       "       [ 9.81576298e+03],\n",
       "       [ 1.24588723e-07],\n",
       "       [-3.00269756e+04],\n",
       "       [-3.63344952e-07],\n",
       "       [ 5.92445359e+04],\n",
       "       [ 5.96817699e-07],\n",
       "       [-7.50393118e+04],\n",
       "       [-5.56938176e-07],\n",
       "       [ 5.88646706e+04],\n",
       "       [ 2.74591912e-07],\n",
       "       [-2.60104106e+04],\n",
       "       [-5.53035306e-08],\n",
       "       [ 4.94638969e+03]])"
      ]
     },
     "execution_count": 24,
     "metadata": {},
     "output_type": "execute_result"
    }
   ],
   "source": [
    "def least_squre(A,n,m):\n",
    "    U,D,VT=nl.svd(A)\n",
    "    diag_D=np.diag(D)\n",
    "    if n==m:\n",
    "        return np.transpose(VT)@nl.inv(diag_D)@np.transpose(U)@y_i(n)\n",
    "    elif n>m:\n",
    "        zero_matrix=np.zeros((m+1,n-m))\n",
    "        sigma=np.hstack((np.linalg.inv(diag_D),zero_matrix))\n",
    "        return np.transpose(VT)@sigma@np.transpose(U)@y_i(n)\n",
    "least_squre(A(10,10),10,10)\n",
    "least_squre(A(80,20),80,20)"
   ]
  },
  {
   "cell_type": "code",
   "execution_count": 26,
   "metadata": {},
   "outputs": [
    {
     "data": {
      "text/plain": [
       "<Figure size 720x432 with 0 Axes>"
      ]
     },
     "execution_count": 26,
     "metadata": {},
     "output_type": "execute_result"
    },
    {
     "name": "stderr",
     "output_type": "stream",
     "text": [
      "/opt/anaconda3/lib/python3.9/site-packages/seaborn/_decorators.py:36: FutureWarning: Pass the following variables as keyword args: x, y. From version 0.12, the only valid positional argument will be `data`, and passing other arguments without an explicit keyword will result in an error or misinterpretation.\n",
      "  warnings.warn(\n"
     ]
    },
    {
     "data": {
      "text/plain": [
       "<AxesSubplot:>"
      ]
     },
     "execution_count": 26,
     "metadata": {},
     "output_type": "execute_result"
    },
    {
     "name": "stderr",
     "output_type": "stream",
     "text": [
      "/opt/anaconda3/lib/python3.9/site-packages/seaborn/_decorators.py:36: FutureWarning: Pass the following variables as keyword args: x, y. From version 0.12, the only valid positional argument will be `data`, and passing other arguments without an explicit keyword will result in an error or misinterpretation.\n",
      "  warnings.warn(\n"
     ]
    },
    {
     "data": {
      "text/plain": [
       "<AxesSubplot:>"
      ]
     },
     "execution_count": 26,
     "metadata": {},
     "output_type": "execute_result"
    },
    {
     "name": "stderr",
     "output_type": "stream",
     "text": [
      "/opt/anaconda3/lib/python3.9/site-packages/seaborn/_decorators.py:36: FutureWarning: Pass the following variables as keyword args: x, y. From version 0.12, the only valid positional argument will be `data`, and passing other arguments without an explicit keyword will result in an error or misinterpretation.\n",
      "  warnings.warn(\n"
     ]
    },
    {
     "data": {
      "text/plain": [
       "<AxesSubplot:>"
      ]
     },
     "execution_count": 26,
     "metadata": {},
     "output_type": "execute_result"
    },
    {
     "data": {
      "text/plain": [
       "Text(0.5, 0, 'x')"
      ]
     },
     "execution_count": 26,
     "metadata": {},
     "output_type": "execute_result"
    },
    {
     "data": {
      "text/plain": [
       "Text(0, 0.5, 'y')"
      ]
     },
     "execution_count": 26,
     "metadata": {},
     "output_type": "execute_result"
    },
    {
     "data": {
      "text/plain": [
       "Text(0.5, 1.0, 'Polynomial Approximations of y(x) (Least square problem)')"
      ]
     },
     "execution_count": 26,
     "metadata": {},
     "output_type": "execute_result"
    },
    {
     "data": {
      "text/plain": [
       "(array([-1.25, -1.  , -0.75, -0.5 , -0.25,  0.  ,  0.25,  0.5 ,  0.75,\n",
       "         1.  ,  1.25]),\n",
       " [Text(0, 0, ''),\n",
       "  Text(0, 0, ''),\n",
       "  Text(0, 0, ''),\n",
       "  Text(0, 0, ''),\n",
       "  Text(0, 0, ''),\n",
       "  Text(0, 0, ''),\n",
       "  Text(0, 0, ''),\n",
       "  Text(0, 0, ''),\n",
       "  Text(0, 0, ''),\n",
       "  Text(0, 0, ''),\n",
       "  Text(0, 0, '')])"
      ]
     },
     "execution_count": 26,
     "metadata": {},
     "output_type": "execute_result"
    },
    {
     "data": {
      "text/plain": [
       "(array([-0.2,  0. ,  0.2,  0.4,  0.6,  0.8,  1. ,  1.2]),\n",
       " [Text(0, 0, ''),\n",
       "  Text(0, 0, ''),\n",
       "  Text(0, 0, ''),\n",
       "  Text(0, 0, ''),\n",
       "  Text(0, 0, ''),\n",
       "  Text(0, 0, ''),\n",
       "  Text(0, 0, ''),\n",
       "  Text(0, 0, '')])"
      ]
     },
     "execution_count": 26,
     "metadata": {},
     "output_type": "execute_result"
    },
    {
     "data": {
      "text/plain": [
       "<matplotlib.legend.Legend at 0x7fc83c80ed30>"
      ]
     },
     "execution_count": 26,
     "metadata": {},
     "output_type": "execute_result"
    },
    {
     "data": {
      "image/png": "[encoded data removed]",
      "text/plain": [
       "<Figure size 720x432 with 1 Axes>"
      ]
     },
     "metadata": {},
     "output_type": "display_data"
    },
    {
     "data": {
      "text/plain": [
       "<Figure size 432x288 with 0 Axes>"
      ]
     },
     "metadata": {},
     "output_type": "display_data"
    }
   ],
   "source": [
    "P_x_j=np.polyval(least_squre(A(10,10),10,10)[::-1],x_i(10))\n",
    "P_x_j_1=np.polyval(least_squre(A(80,20),80,20)[::-1],x_i(80))\n",
    "sns.set_style(\"whitegrid\")\n",
    "plt.figure(figsize=(10, 6))\n",
    "sns.lineplot(x_i(10), P_x_j, marker='o', markersize=8, label=\"n=m=10\")\n",
    "sns.lineplot(x_i(80), P_x_j_1, marker='o', markersize=8, color='pink', label=\"n=80, m=20\")\n",
    "sns.lineplot(x_i(1000), y(x_i(1000)), color=\"black\", label=\"y(x) = 1 / (1 + 25x^2)\")\n",
    "plt.xlabel(\"x\")\n",
    "plt.ylabel(\"y\")\n",
    "plt.title(\"Polynomial Approximations of y(x) (Least square problem)\")\n",
    "plt.xticks(fontsize=12)\n",
    "plt.yticks(fontsize=12)\n",
    "plt.legend(fontsize=12)\n",
    "plt.show()\n",
    "plt.savefig('Least square',dpi=300)"
   ]
  },
  {
   "cell_type": "code",
   "execution_count": null,
   "metadata": {},
   "outputs": [],
   "source": []
  }
 ],
 "metadata": {
  "interpreter": {
   "hash": "40d3a090f54c6569ab1632332b64b2c03c39dcf918b08424e98f38b5ae0af88f"
  },
  "kernelspec": {
   "display_name": "Python 3.9.12",
   "language": "python",
   "name": "python3"
  },
  "language_info": {
   "codemirror_mode": {
    "name": "ipython",
    "version": 3
   },
   "file_extension": ".py",
   "mimetype": "text/x-python",
   "name": "python",
   "nbconvert_exporter": "python",
   "pygments_lexer": "ipython3",
   "version": "3.9.12"
  },
  "orig_nbformat": 4
 },
 "nbformat": 4,
 "nbformat_minor": 2
}
